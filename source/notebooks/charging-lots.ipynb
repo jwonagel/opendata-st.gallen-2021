{
 "cells": [
  {
   "cell_type": "code",
   "execution_count": 18,
   "metadata": {},
   "outputs": [],
   "source": [
    "import pandas as pd\n",
    "import geojson\n",
    "import geopandas\n",
    "import folium"
   ]
  },
  {
   "cell_type": "code",
   "execution_count": 19,
   "metadata": {},
   "outputs": [],
   "source": [
    "df_kandelaber = geopandas.read_file('../../raw-data/offentliche-beleuchtung-stadt-stgallen.csv', sep=';')\n",
    "df_gemeindestrassen =  geopandas.read_file('../../raw-data/gemeindestrassenplan.csv', sep=';')\n",
    "df_trottoirs =  geopandas.read_file('../../raw-data/trottoirs.csv', sep=';')"
   ]
  },
  {
   "cell_type": "code",
   "execution_count": 20,
   "metadata": {},
   "outputs": [
    {
     "data": {
      "text/html": [
       "<div>\n",
       "<style scoped>\n",
       "    .dataframe tbody tr th:only-of-type {\n",
       "        vertical-align: middle;\n",
       "    }\n",
       "\n",
       "    .dataframe tbody tr th {\n",
       "        vertical-align: top;\n",
       "    }\n",
       "\n",
       "    .dataframe thead th {\n",
       "        text-align: right;\n",
       "    }\n",
       "</style>\n",
       "<table border=\"1\" class=\"dataframe\">\n",
       "  <thead>\n",
       "    <tr style=\"text-align: right;\">\n",
       "      <th></th>\n",
       "      <th>Geo Point</th>\n",
       "      <th>Geo Shape</th>\n",
       "      <th>TYP</th>\n",
       "      <th>geometry</th>\n",
       "    </tr>\n",
       "  </thead>\n",
       "  <tbody>\n",
       "    <tr>\n",
       "      <th>0</th>\n",
       "      <td>47.4313609563,9.38539811189</td>\n",
       "      <td>{\"type\": \"Point\", \"coordinates\": [9.3853981118...</td>\n",
       "      <td>Kandelaberleuchte</td>\n",
       "      <td>None</td>\n",
       "    </tr>\n",
       "    <tr>\n",
       "      <th>1</th>\n",
       "      <td>47.4325080001,9.38165538687</td>\n",
       "      <td>{\"type\": \"Point\", \"coordinates\": [9.3816553868...</td>\n",
       "      <td>Kandelaberleuchte</td>\n",
       "      <td>None</td>\n",
       "    </tr>\n",
       "    <tr>\n",
       "      <th>2</th>\n",
       "      <td>47.4329285958,9.38138278116</td>\n",
       "      <td>{\"type\": \"Point\", \"coordinates\": [9.3813827811...</td>\n",
       "      <td>Kandelaberleuchte</td>\n",
       "      <td>None</td>\n",
       "    </tr>\n",
       "    <tr>\n",
       "      <th>3</th>\n",
       "      <td>47.4335976704,9.38252005931</td>\n",
       "      <td>{\"type\": \"Point\", \"coordinates\": [9.3825200593...</td>\n",
       "      <td>Kandelaberleuchte</td>\n",
       "      <td>None</td>\n",
       "    </tr>\n",
       "    <tr>\n",
       "      <th>4</th>\n",
       "      <td>47.4337866476,9.3828705123</td>\n",
       "      <td>{\"type\": \"Point\", \"coordinates\": [9.3828705123...</td>\n",
       "      <td>Kandelaberleuchte</td>\n",
       "      <td>None</td>\n",
       "    </tr>\n",
       "    <tr>\n",
       "      <th>...</th>\n",
       "      <td>...</td>\n",
       "      <td>...</td>\n",
       "      <td>...</td>\n",
       "      <td>...</td>\n",
       "    </tr>\n",
       "    <tr>\n",
       "      <th>8665</th>\n",
       "      <td>47.4172420858,9.34445584113</td>\n",
       "      <td>{\"type\": \"Point\", \"coordinates\": [9.3444558411...</td>\n",
       "      <td>Kandelaberleuchte</td>\n",
       "      <td>None</td>\n",
       "    </tr>\n",
       "    <tr>\n",
       "      <th>8666</th>\n",
       "      <td>47.4170887628,9.34471875324</td>\n",
       "      <td>{\"type\": \"Point\", \"coordinates\": [9.3447187532...</td>\n",
       "      <td>Kandelaberleuchte</td>\n",
       "      <td>None</td>\n",
       "    </tr>\n",
       "    <tr>\n",
       "      <th>8670</th>\n",
       "      <td>47.4362935459,9.39547040703</td>\n",
       "      <td>{\"type\": \"Point\", \"coordinates\": [9.3954704070...</td>\n",
       "      <td>Kandelaberleuchte</td>\n",
       "      <td>None</td>\n",
       "    </tr>\n",
       "    <tr>\n",
       "      <th>8671</th>\n",
       "      <td>47.436440152,9.39576264481</td>\n",
       "      <td>{\"type\": \"Point\", \"coordinates\": [9.3957626448...</td>\n",
       "      <td>Kandelaberleuchte</td>\n",
       "      <td>None</td>\n",
       "    </tr>\n",
       "    <tr>\n",
       "      <th>8672</th>\n",
       "      <td>47.4364637459,9.3960383429</td>\n",
       "      <td>{\"type\": \"Point\", \"coordinates\": [9.3960383429...</td>\n",
       "      <td>Kandelaberleuchte</td>\n",
       "      <td>None</td>\n",
       "    </tr>\n",
       "  </tbody>\n",
       "</table>\n",
       "<p>6739 rows × 4 columns</p>\n",
       "</div>"
      ],
      "text/plain": [
       "                        Geo Point  \\\n",
       "0     47.4313609563,9.38539811189   \n",
       "1     47.4325080001,9.38165538687   \n",
       "2     47.4329285958,9.38138278116   \n",
       "3     47.4335976704,9.38252005931   \n",
       "4      47.4337866476,9.3828705123   \n",
       "...                           ...   \n",
       "8665  47.4172420858,9.34445584113   \n",
       "8666  47.4170887628,9.34471875324   \n",
       "8670  47.4362935459,9.39547040703   \n",
       "8671   47.436440152,9.39576264481   \n",
       "8672   47.4364637459,9.3960383429   \n",
       "\n",
       "                                              Geo Shape                TYP  \\\n",
       "0     {\"type\": \"Point\", \"coordinates\": [9.3853981118...  Kandelaberleuchte   \n",
       "1     {\"type\": \"Point\", \"coordinates\": [9.3816553868...  Kandelaberleuchte   \n",
       "2     {\"type\": \"Point\", \"coordinates\": [9.3813827811...  Kandelaberleuchte   \n",
       "3     {\"type\": \"Point\", \"coordinates\": [9.3825200593...  Kandelaberleuchte   \n",
       "4     {\"type\": \"Point\", \"coordinates\": [9.3828705123...  Kandelaberleuchte   \n",
       "...                                                 ...                ...   \n",
       "8665  {\"type\": \"Point\", \"coordinates\": [9.3444558411...  Kandelaberleuchte   \n",
       "8666  {\"type\": \"Point\", \"coordinates\": [9.3447187532...  Kandelaberleuchte   \n",
       "8670  {\"type\": \"Point\", \"coordinates\": [9.3954704070...  Kandelaberleuchte   \n",
       "8671  {\"type\": \"Point\", \"coordinates\": [9.3957626448...  Kandelaberleuchte   \n",
       "8672  {\"type\": \"Point\", \"coordinates\": [9.3960383429...  Kandelaberleuchte   \n",
       "\n",
       "     geometry  \n",
       "0        None  \n",
       "1        None  \n",
       "2        None  \n",
       "3        None  \n",
       "4        None  \n",
       "...       ...  \n",
       "8665     None  \n",
       "8666     None  \n",
       "8670     None  \n",
       "8671     None  \n",
       "8672     None  \n",
       "\n",
       "[6739 rows x 4 columns]"
      ]
     },
     "execution_count": 20,
     "metadata": {},
     "output_type": "execute_result"
    }
   ],
   "source": [
    "kanderlaber = df_kandelaber[df_kandelaber['TYP']==\"Kandelaberleuchte\"]\n",
    "kanderlaber"
   ]
  },
  {
   "cell_type": "code",
   "execution_count": 21,
   "metadata": {},
   "outputs": [
    {
     "ename": "AttributeError",
     "evalue": "'GeoDataFrame' object has no attribute 'explore'",
     "output_type": "error",
     "traceback": [
      "\u001b[1;31m---------------------------------------------------------------------------\u001b[0m",
      "\u001b[1;31mAttributeError\u001b[0m                            Traceback (most recent call last)",
      "\u001b[1;32m~\\AppData\\Local\\Temp/ipykernel_35144/3785449920.py\u001b[0m in \u001b[0;36m<module>\u001b[1;34m\u001b[0m\n\u001b[1;32m----> 1\u001b[1;33m \u001b[0mkanderlaber\u001b[0m\u001b[1;33m.\u001b[0m\u001b[0mexplore\u001b[0m\u001b[1;33m(\u001b[0m\u001b[1;34m\"Geo Shape\"\u001b[0m\u001b[1;33m,\u001b[0m \u001b[0mlegend\u001b[0m\u001b[1;33m=\u001b[0m\u001b[1;32mFalse\u001b[0m\u001b[1;33m)\u001b[0m\u001b[1;33m\u001b[0m\u001b[1;33m\u001b[0m\u001b[0m\n\u001b[0m",
      "\u001b[1;32m~\\Miniconda3\\lib\\site-packages\\pandas\\core\\generic.py\u001b[0m in \u001b[0;36m__getattr__\u001b[1;34m(self, name)\u001b[0m\n\u001b[0;32m   5485\u001b[0m         ):\n\u001b[0;32m   5486\u001b[0m             \u001b[1;32mreturn\u001b[0m \u001b[0mself\u001b[0m\u001b[1;33m[\u001b[0m\u001b[0mname\u001b[0m\u001b[1;33m]\u001b[0m\u001b[1;33m\u001b[0m\u001b[1;33m\u001b[0m\u001b[0m\n\u001b[1;32m-> 5487\u001b[1;33m         \u001b[1;32mreturn\u001b[0m \u001b[0mobject\u001b[0m\u001b[1;33m.\u001b[0m\u001b[0m__getattribute__\u001b[0m\u001b[1;33m(\u001b[0m\u001b[0mself\u001b[0m\u001b[1;33m,\u001b[0m \u001b[0mname\u001b[0m\u001b[1;33m)\u001b[0m\u001b[1;33m\u001b[0m\u001b[1;33m\u001b[0m\u001b[0m\n\u001b[0m\u001b[0;32m   5488\u001b[0m \u001b[1;33m\u001b[0m\u001b[0m\n\u001b[0;32m   5489\u001b[0m     \u001b[1;32mdef\u001b[0m \u001b[0m__setattr__\u001b[0m\u001b[1;33m(\u001b[0m\u001b[0mself\u001b[0m\u001b[1;33m,\u001b[0m \u001b[0mname\u001b[0m\u001b[1;33m:\u001b[0m \u001b[0mstr\u001b[0m\u001b[1;33m,\u001b[0m \u001b[0mvalue\u001b[0m\u001b[1;33m)\u001b[0m \u001b[1;33m->\u001b[0m \u001b[1;32mNone\u001b[0m\u001b[1;33m:\u001b[0m\u001b[1;33m\u001b[0m\u001b[1;33m\u001b[0m\u001b[0m\n",
      "\u001b[1;31mAttributeError\u001b[0m: 'GeoDataFrame' object has no attribute 'explore'"
     ]
    }
   ],
   "source": [
    "kanderlaber.explore(\"Geo Shape\", legend=False)"
   ]
  },
  {
   "cell_type": "code",
   "execution_count": null,
   "metadata": {},
   "outputs": [],
   "source": []
  },
  {
   "cell_type": "code",
   "execution_count": null,
   "metadata": {},
   "outputs": [],
   "source": []
  }
 ],
 "metadata": {
  "interpreter": {
   "hash": "a8884a8be18053355466ce555cdbed1bf95d22b766b6018284b03e95d5389f36"
  },
  "kernelspec": {
   "display_name": "Python 3.10.0 64-bit",
   "language": "python",
   "name": "python3"
  },
  "language_info": {
   "codemirror_mode": {
    "name": "ipython",
    "version": 3
   },
   "file_extension": ".py",
   "mimetype": "text/x-python",
   "name": "python",
   "nbconvert_exporter": "python",
   "pygments_lexer": "ipython3",
   "version": "3.9.5"
  },
  "orig_nbformat": 4
 },
 "nbformat": 4,
 "nbformat_minor": 2
}
