{
 "cells": [
  {
   "cell_type": "code",
   "execution_count": 1,
   "metadata": {},
   "outputs": [],
   "source": [
    "import requests\n",
    "import datetime\n",
    "import pandas as pd\n",
    "import matplotlib.pyplot as plt"
   ]
  },
  {
   "cell_type": "code",
   "execution_count": 2,
   "metadata": {},
   "outputs": [],
   "source": [
    "now = datetime.datetime.now().replace(hour=datetime.datetime.now().hour - 2)"
   ]
  },
  {
   "cell_type": "code",
   "execution_count": 3,
   "metadata": {},
   "outputs": [
    {
     "data": {
      "text/plain": [
       "'20211106_0806'"
      ]
     },
     "execution_count": 3,
     "metadata": {},
     "output_type": "execute_result"
    }
   ],
   "source": [
    "datetimestr = now.strftime('%Y%m%d_%00806')\n",
    "datetimestr"
   ]
  },
  {
   "cell_type": "code",
   "execution_count": 4,
   "metadata": {},
   "outputs": [],
   "source": [
    "uri = 'https://www.meteoschweiz.admin.ch/product/output/forecast-chart/version__' + datetimestr + '/de/900000.json'\n",
    "referer = 'https://www.meteoschweiz.admin.ch/home.html?tab=overview'"
   ]
  },
  {
   "cell_type": "code",
   "execution_count": 5,
   "metadata": {},
   "outputs": [
    {
     "data": {
      "text/plain": [
       "200"
      ]
     },
     "execution_count": 5,
     "metadata": {},
     "output_type": "execute_result"
    }
   ],
   "source": [
    "response = requests.get(uri, headers={'Referer': referer})\n",
    "response.status_code"
   ]
  },
  {
   "cell_type": "code",
   "execution_count": 6,
   "metadata": {},
   "outputs": [
    {
     "name": "stdout",
     "output_type": "stream",
     "text": [
      "Heute\n",
      "Sonntag\n",
      "Montag\n",
      "Dienstag\n",
      "Mittwoch\n",
      "Donnerstag\n",
      "Freitag\n"
     ]
    }
   ],
   "source": [
    "data = response.json()\n",
    "for day in data:\n",
    "    print(day['day_string'])"
   ]
  },
  {
   "cell_type": "code",
   "execution_count": 7,
   "metadata": {},
   "outputs": [
    {
     "data": {
      "text/plain": [
       "dict_keys(['max_date', 'rainfall', 'day_string', 'sunshine', 'symbols', 'current_time_string', 'variance_rain', 'variance_range', 'min_date', 'temperature', 'wind_gust_peak', 'new_day', 'current_time', 'wind'])"
      ]
     },
     "execution_count": 7,
     "metadata": {},
     "output_type": "execute_result"
    }
   ],
   "source": [
    "data[0].keys()"
   ]
  },
  {
   "cell_type": "code",
   "execution_count": 8,
   "metadata": {},
   "outputs": [],
   "source": [
    "def create_df(day):\n",
    "    return pd.DataFrame({\n",
    "        'timestamp': map(lambda x: x[0], day['sunshine']),\n",
    "        'rainfall': map(lambda x: x[1], day['rainfall']),\n",
    "        'sunshine': map(lambda x: x[1], day['sunshine']), \n",
    "        'temperature': map(lambda x: x[1], day['temperature']),\n",
    "    })\n",
    "    "
   ]
  },
  {
   "cell_type": "code",
   "execution_count": 9,
   "metadata": {},
   "outputs": [
    {
     "data": {
      "text/html": [
       "<div>\n",
       "<style scoped>\n",
       "    .dataframe tbody tr th:only-of-type {\n",
       "        vertical-align: middle;\n",
       "    }\n",
       "\n",
       "    .dataframe tbody tr th {\n",
       "        vertical-align: top;\n",
       "    }\n",
       "\n",
       "    .dataframe thead th {\n",
       "        text-align: right;\n",
       "    }\n",
       "</style>\n",
       "<table border=\"1\" class=\"dataframe\">\n",
       "  <thead>\n",
       "    <tr style=\"text-align: right;\">\n",
       "      <th></th>\n",
       "      <th>timestamp</th>\n",
       "      <th>rainfall</th>\n",
       "      <th>sunshine</th>\n",
       "      <th>temperature</th>\n",
       "      <th>datetime</th>\n",
       "    </tr>\n",
       "  </thead>\n",
       "  <tbody>\n",
       "    <tr>\n",
       "      <th>0</th>\n",
       "      <td>1636153200000</td>\n",
       "      <td>0.0</td>\n",
       "      <td>0</td>\n",
       "      <td>2.0</td>\n",
       "      <td>2021-11-06 00:00:00</td>\n",
       "    </tr>\n",
       "    <tr>\n",
       "      <th>1</th>\n",
       "      <td>1636156800000</td>\n",
       "      <td>0.0</td>\n",
       "      <td>0</td>\n",
       "      <td>1.7</td>\n",
       "      <td>2021-11-06 01:00:00</td>\n",
       "    </tr>\n",
       "    <tr>\n",
       "      <th>2</th>\n",
       "      <td>1636160400000</td>\n",
       "      <td>0.0</td>\n",
       "      <td>0</td>\n",
       "      <td>1.3</td>\n",
       "      <td>2021-11-06 02:00:00</td>\n",
       "    </tr>\n",
       "    <tr>\n",
       "      <th>3</th>\n",
       "      <td>1636164000000</td>\n",
       "      <td>0.0</td>\n",
       "      <td>0</td>\n",
       "      <td>1.3</td>\n",
       "      <td>2021-11-06 03:00:00</td>\n",
       "    </tr>\n",
       "    <tr>\n",
       "      <th>4</th>\n",
       "      <td>1636167600000</td>\n",
       "      <td>0.0</td>\n",
       "      <td>0</td>\n",
       "      <td>1.0</td>\n",
       "      <td>2021-11-06 04:00:00</td>\n",
       "    </tr>\n",
       "    <tr>\n",
       "      <th>5</th>\n",
       "      <td>1636171200000</td>\n",
       "      <td>0.0</td>\n",
       "      <td>0</td>\n",
       "      <td>0.3</td>\n",
       "      <td>2021-11-06 05:00:00</td>\n",
       "    </tr>\n",
       "    <tr>\n",
       "      <th>6</th>\n",
       "      <td>1636174800000</td>\n",
       "      <td>0.0</td>\n",
       "      <td>0</td>\n",
       "      <td>0.4</td>\n",
       "      <td>2021-11-06 06:00:00</td>\n",
       "    </tr>\n",
       "    <tr>\n",
       "      <th>7</th>\n",
       "      <td>1636178400000</td>\n",
       "      <td>0.0</td>\n",
       "      <td>0</td>\n",
       "      <td>0.4</td>\n",
       "      <td>2021-11-06 07:00:00</td>\n",
       "    </tr>\n",
       "    <tr>\n",
       "      <th>8</th>\n",
       "      <td>1636182000000</td>\n",
       "      <td>0.0</td>\n",
       "      <td>7</td>\n",
       "      <td>0.4</td>\n",
       "      <td>2021-11-06 08:00:00</td>\n",
       "    </tr>\n",
       "    <tr>\n",
       "      <th>9</th>\n",
       "      <td>1636185600000</td>\n",
       "      <td>0.0</td>\n",
       "      <td>60</td>\n",
       "      <td>0.5</td>\n",
       "      <td>2021-11-06 09:00:00</td>\n",
       "    </tr>\n",
       "    <tr>\n",
       "      <th>10</th>\n",
       "      <td>1636189200000</td>\n",
       "      <td>0.0</td>\n",
       "      <td>55</td>\n",
       "      <td>1.6</td>\n",
       "      <td>2021-11-06 10:00:00</td>\n",
       "    </tr>\n",
       "    <tr>\n",
       "      <th>11</th>\n",
       "      <td>1636192800000</td>\n",
       "      <td>0.0</td>\n",
       "      <td>36</td>\n",
       "      <td>2.6</td>\n",
       "      <td>2021-11-06 11:00:00</td>\n",
       "    </tr>\n",
       "    <tr>\n",
       "      <th>12</th>\n",
       "      <td>1636196400000</td>\n",
       "      <td>0.0</td>\n",
       "      <td>56</td>\n",
       "      <td>3.6</td>\n",
       "      <td>2021-11-06 12:00:00</td>\n",
       "    </tr>\n",
       "    <tr>\n",
       "      <th>13</th>\n",
       "      <td>1636200000000</td>\n",
       "      <td>0.0</td>\n",
       "      <td>60</td>\n",
       "      <td>4.4</td>\n",
       "      <td>2021-11-06 13:00:00</td>\n",
       "    </tr>\n",
       "    <tr>\n",
       "      <th>14</th>\n",
       "      <td>1636203600000</td>\n",
       "      <td>0.0</td>\n",
       "      <td>60</td>\n",
       "      <td>4.9</td>\n",
       "      <td>2021-11-06 14:00:00</td>\n",
       "    </tr>\n",
       "    <tr>\n",
       "      <th>15</th>\n",
       "      <td>1636207200000</td>\n",
       "      <td>0.0</td>\n",
       "      <td>60</td>\n",
       "      <td>5.1</td>\n",
       "      <td>2021-11-06 15:00:00</td>\n",
       "    </tr>\n",
       "    <tr>\n",
       "      <th>16</th>\n",
       "      <td>1636210800000</td>\n",
       "      <td>0.0</td>\n",
       "      <td>59</td>\n",
       "      <td>4.9</td>\n",
       "      <td>2021-11-06 16:00:00</td>\n",
       "    </tr>\n",
       "    <tr>\n",
       "      <th>17</th>\n",
       "      <td>1636214400000</td>\n",
       "      <td>0.0</td>\n",
       "      <td>3</td>\n",
       "      <td>4.4</td>\n",
       "      <td>2021-11-06 17:00:00</td>\n",
       "    </tr>\n",
       "    <tr>\n",
       "      <th>18</th>\n",
       "      <td>1636218000000</td>\n",
       "      <td>0.0</td>\n",
       "      <td>0</td>\n",
       "      <td>3.7</td>\n",
       "      <td>2021-11-06 18:00:00</td>\n",
       "    </tr>\n",
       "    <tr>\n",
       "      <th>19</th>\n",
       "      <td>1636221600000</td>\n",
       "      <td>0.0</td>\n",
       "      <td>0</td>\n",
       "      <td>3.0</td>\n",
       "      <td>2021-11-06 19:00:00</td>\n",
       "    </tr>\n",
       "  </tbody>\n",
       "</table>\n",
       "</div>"
      ],
      "text/plain": [
       "        timestamp  rainfall  sunshine  temperature            datetime\n",
       "0   1636153200000       0.0         0          2.0 2021-11-06 00:00:00\n",
       "1   1636156800000       0.0         0          1.7 2021-11-06 01:00:00\n",
       "2   1636160400000       0.0         0          1.3 2021-11-06 02:00:00\n",
       "3   1636164000000       0.0         0          1.3 2021-11-06 03:00:00\n",
       "4   1636167600000       0.0         0          1.0 2021-11-06 04:00:00\n",
       "5   1636171200000       0.0         0          0.3 2021-11-06 05:00:00\n",
       "6   1636174800000       0.0         0          0.4 2021-11-06 06:00:00\n",
       "7   1636178400000       0.0         0          0.4 2021-11-06 07:00:00\n",
       "8   1636182000000       0.0         7          0.4 2021-11-06 08:00:00\n",
       "9   1636185600000       0.0        60          0.5 2021-11-06 09:00:00\n",
       "10  1636189200000       0.0        55          1.6 2021-11-06 10:00:00\n",
       "11  1636192800000       0.0        36          2.6 2021-11-06 11:00:00\n",
       "12  1636196400000       0.0        56          3.6 2021-11-06 12:00:00\n",
       "13  1636200000000       0.0        60          4.4 2021-11-06 13:00:00\n",
       "14  1636203600000       0.0        60          4.9 2021-11-06 14:00:00\n",
       "15  1636207200000       0.0        60          5.1 2021-11-06 15:00:00\n",
       "16  1636210800000       0.0        59          4.9 2021-11-06 16:00:00\n",
       "17  1636214400000       0.0         3          4.4 2021-11-06 17:00:00\n",
       "18  1636218000000       0.0         0          3.7 2021-11-06 18:00:00\n",
       "19  1636221600000       0.0         0          3.0 2021-11-06 19:00:00"
      ]
     },
     "execution_count": 9,
     "metadata": {},
     "output_type": "execute_result"
    }
   ],
   "source": [
    "df = None\n",
    "\n",
    "for day in data:\n",
    "    temp_df = create_df(day)\n",
    "    if df is None:\n",
    "        df = temp_df\n",
    "    else:\n",
    "        df = pd.concat([df, temp_df])\n",
    "df['datetime'] = df['timestamp'].map(lambda x: datetime.datetime.fromtimestamp(x/1000.0))\n",
    "df.head(20)"
   ]
  },
  {
   "cell_type": "code",
   "execution_count": 10,
   "metadata": {},
   "outputs": [
    {
     "data": {
      "text/plain": [
       "<AxesSubplot:xlabel='datetime'>"
      ]
     },
     "execution_count": 10,
     "metadata": {},
     "output_type": "execute_result"
    },
    {
     "data": {
      "image/png": "[encoded data removed]",
      "text/plain": [
       "<Figure size 1440x720 with 1 Axes>"
      ]
     },
     "metadata": {
      "needs_background": "light"
     },
     "output_type": "display_data"
    }
   ],
   "source": [
    "df.plot(kind='line', x='datetime', y='sunshine', figsize=(20,10))"
   ]
  },
  {
   "cell_type": "code",
   "execution_count": 11,
   "metadata": {},
   "outputs": [],
   "source": [
    "df.to_csv('./weatherforecast.csv')"
   ]
  },
  {
   "cell_type": "code",
   "execution_count": 14,
   "metadata": {},
   "outputs": [],
   "source": [
    "sunshine_data = df[['sunshine', 'datetime']]\n",
    "sunshine_data.to_csv('sunshine_hourly.csv')"
   ]
  },
  {
   "cell_type": "code",
   "execution_count": null,
   "metadata": {},
   "outputs": [],
   "source": []
  }
 ],
 "metadata": {
  "interpreter": {
   "hash": "38cca0c38332a56087b24af0bc80247f4fced29cb4f7f437d91dc159adec9c4e"
  },
  "kernelspec": {
   "display_name": "Python 3.8.8 64-bit ('base': conda)",
   "name": "python3"
  },
  "language_info": {
   "codemirror_mode": {
    "name": "ipython",
    "version": 3
   },
   "file_extension": ".py",
   "mimetype": "text/x-python",
   "name": "python",
   "nbconvert_exporter": "python",
   "pygments_lexer": "ipython3",
   "version": "3.8.8"
  },
  "orig_nbformat": 4
 },
 "nbformat": 4,
 "nbformat_minor": 2
}
